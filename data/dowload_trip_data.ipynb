{
 "cells": [
  {
   "cell_type": "code",
   "execution_count": 4,
   "id": "02ba461c",
   "metadata": {},
   "outputs": [
    {
     "name": "stdout",
     "output_type": "stream",
     "text": [
      "1\n",
      "2\n",
      "3\n",
      "4\n",
      "5\n",
      "6\n",
      "7\n",
      "8\n",
      "9\n",
      "10\n",
      "11\n",
      "12\n"
     ]
    }
   ],
   "source": [
    " for i in range(1,13):\n",
    "        print(i)"
   ]
  },
  {
   "cell_type": "code",
   "execution_count": 5,
   "id": "ad455e9f",
   "metadata": {},
   "outputs": [
    {
     "name": "stdout",
     "output_type": "stream",
     "text": [
      "green_tripdata_2020-01.csv\n",
      "green_tripdata_2020-02.csv\n",
      "green_tripdata_2020-03.csv\n",
      "green_tripdata_2020-04.csv\n",
      "green_tripdata_2020-05.csv\n",
      "green_tripdata_2020-06.csv\n",
      "green_tripdata_2020-07.csv\n",
      "green_tripdata_2020-08.csv\n",
      "green_tripdata_2020-09.csv\n",
      "green_tripdata_2020-10.csv\n",
      "green_tripdata_2020-11.csv\n",
      "green_tripdata_2020-12.csv\n"
     ]
    }
   ],
   "source": [
    "import requests\n",
    "import io\n",
    "\n",
    "init_url = 'https://nyc-tlc.s3.amazonaws.com/trip+data/'\n",
    "\n",
    "#services = ['fhv','green','yellow']\n",
    "services = ['green','yellow']\n",
    "#year = '2019'\n",
    "year = '2020'\n",
    "\n",
    "r = requests.get(init_url)\n",
    "\n",
    "  \n",
    "for service in services:\n",
    "    for i in range(1,13):\n",
    "        month = '0'+str(i)\n",
    "        month = month[-2:]\n",
    "        file_name = service + '_tripdata_'+ year + '-' + month + '.csv'\n",
    "        request_url = init_url + file_name\n",
    "        \n",
    "        r = requests.get(request_url)\n",
    "        with open(file_name, mode='wb') as localfile:     \n",
    "            localfile.write(r.content)\n",
    "        print(file_name)"
   ]
  },
  {
   "cell_type": "code",
   "execution_count": 6,
   "id": "2601f2c7",
   "metadata": {},
   "outputs": [
    {
     "name": "stdout",
     "output_type": "stream",
     "text": [
      "yellow_tripdata_2019-01.csv\n",
      "yellow_tripdata_2019-02.csv\n",
      "yellow_tripdata_2019-03.csv\n",
      "yellow_tripdata_2019-04.csv\n",
      "yellow_tripdata_2019-05.csv\n",
      "yellow_tripdata_2019-06.csv\n",
      "yellow_tripdata_2019-07.csv\n",
      "yellow_tripdata_2019-08.csv\n",
      "yellow_tripdata_2019-09.csv\n",
      "yellow_tripdata_2019-10.csv\n",
      "yellow_tripdata_2019-11.csv\n",
      "yellow_tripdata_2019-12.csv\n",
      "yellow_tripdata_2020-01.csv\n",
      "yellow_tripdata_2020-02.csv\n",
      "yellow_tripdata_2020-03.csv\n",
      "yellow_tripdata_2020-04.csv\n",
      "yellow_tripdata_2020-05.csv\n",
      "yellow_tripdata_2020-06.csv\n",
      "yellow_tripdata_2020-07.csv\n",
      "yellow_tripdata_2020-08.csv\n",
      "yellow_tripdata_2020-09.csv\n",
      "yellow_tripdata_2020-10.csv\n",
      "yellow_tripdata_2020-11.csv\n",
      "yellow_tripdata_2020-12.csv\n"
     ]
    }
   ],
   "source": [
    "import requests\n",
    "import io\n",
    "\n",
    "init_url = 'https://nyc-tlc.s3.amazonaws.com/trip+data/'\n",
    "\n",
    "#services = ['fhv','green','yellow']\n",
    "#services = ['green','yellow']\n",
    "services = ['yellow']\n",
    "service = 'yellow'\n",
    "#year = '2019'\n",
    "years = ['2019','2020']\n",
    "\n",
    "r = requests.get(init_url)\n",
    "\n",
    "  \n",
    "for year in years:\n",
    "    for i in range(12):\n",
    "        month = '0'+str(i+1)\n",
    "        month = month[-2:]\n",
    "        file_name = service + '_tripdata_'+ year + '-' + month + '.csv'\n",
    "        request_url = init_url + file_name\n",
    "        \n",
    "        r = requests.get(request_url)\n",
    "        with open(file_name, mode='wb') as localfile:     \n",
    "            localfile.write(r.content)\n",
    "        print(file_name)"
   ]
  }
 ],
 "metadata": {
  "kernelspec": {
   "display_name": "Python 3",
   "language": "python",
   "name": "python3"
  },
  "language_info": {
   "codemirror_mode": {
    "name": "ipython",
    "version": 3
   },
   "file_extension": ".py",
   "mimetype": "text/x-python",
   "name": "python",
   "nbconvert_exporter": "python",
   "pygments_lexer": "ipython3",
   "version": "3.8.8"
  }
 },
 "nbformat": 4,
 "nbformat_minor": 5
}
